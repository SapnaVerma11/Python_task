{
 "cells": [
  {
   "cell_type": "markdown",
   "metadata": {},
   "source": [
    "### Mock Test 1 "
   ]
  },
  {
   "cell_type": "markdown",
   "metadata": {},
   "source": [
    "1.\tWrite a python function to accept user inputs, store it in a list and compute the highest number out of it. User can enter as many numbers as he/she wants.\n",
    "Take care of following things:\n",
    "1.\tInput must be entered by user\n",
    "2.\tException handling\n",
    "3.\tNull values\n",
    "4.\tErrors\n",
    "5.\tDatatypes\n",
    "Output of the function must be a number.\n",
    "It should accept correct values and for incorrect values, an error message must be displayed to the user.\n"
   ]
  },
  {
   "cell_type": "code",
   "execution_count": 1,
   "metadata": {},
   "outputs": [
    {
     "name": "stdout",
     "output_type": "stream",
     "text": [
      "enter numbers here:45\n",
      "enter numbers here:76\n",
      "enter numbers here:87\n",
      "enter numbers here:98\n",
      "enter numbers here:23\n",
      "given list is: [45, 76, 87, 98, 23]\n",
      "largest number is: 98\n"
     ]
    }
   ],
   "source": [
    "\n",
    "def largest():\n",
    "    list1 = []\n",
    "    for i in range(5):\n",
    "        try:                                              # exception handeling \n",
    "            num = int(input('enter numbers here:' ))      # input is entered by number \n",
    "            list1.append(num)\n",
    "        except ValueError:\n",
    "            print(\"please enter numbers only\")\n",
    "            break\n",
    "        \n",
    "    print(\"given list is:\",list1)\n",
    "    print((\"largest number is:\"),max(list1))   \n",
    "        \n",
    "    \n",
    "largest()   \n"
   ]
  },
  {
   "cell_type": "code",
   "execution_count": 2,
   "metadata": {},
   "outputs": [
    {
     "name": "stdout",
     "output_type": "stream",
     "text": [
      "enter numbers here:98\n",
      "enter numbers here:\n",
      "please enter numbers only\n",
      "given list is: [98]\n",
      "largest number is: 98\n"
     ]
    }
   ],
   "source": [
    "# if we enter null value\n",
    "def largest():\n",
    "    list1 = []\n",
    "    for i in range(5):\n",
    "        try:                                              # exception handeling \n",
    "            num = int(input('enter numbers here:' ))      # input is entered by number \n",
    "            list1.append(num)\n",
    "        except ValueError:\n",
    "            print(\"please enter numbers only\")\n",
    "            break\n",
    "        \n",
    "    print(\"given list is:\",list1)\n",
    "    print((\"largest number is:\"),max(list1))   \n",
    "        \n",
    "    \n",
    "largest()   "
   ]
  },
  {
   "cell_type": "code",
   "execution_count": 3,
   "metadata": {},
   "outputs": [
    {
     "name": "stdout",
     "output_type": "stream",
     "text": [
      "enter numbers here:98\n",
      "enter numbers here:h\n",
      "please enter numbers only\n",
      "given list is: [98]\n",
      "largest number is: 98\n"
     ]
    }
   ],
   "source": [
    "# if we enter other data type\n",
    "def largest():\n",
    "    list1 = []\n",
    "    for i in range(5):\n",
    "        try:                                              # exception handeling \n",
    "            num = int(input('enter numbers here:' ))      # input is entered by number \n",
    "            list1.append(num)\n",
    "        except ValueError:\n",
    "            print(\"please enter numbers only\")\n",
    "            break\n",
    "        \n",
    "    print(\"given list is:\",list1)\n",
    "    print((\"largest number is:\"),max(list1))   \n",
    "        \n",
    "    \n",
    "largest()   "
   ]
  },
  {
   "cell_type": "code",
   "execution_count": null,
   "metadata": {},
   "outputs": [],
   "source": []
  }
 ],
 "metadata": {
  "kernelspec": {
   "display_name": "Python 3",
   "language": "python",
   "name": "python3"
  },
  "language_info": {
   "codemirror_mode": {
    "name": "ipython",
    "version": 3
   },
   "file_extension": ".py",
   "mimetype": "text/x-python",
   "name": "python",
   "nbconvert_exporter": "python",
   "pygments_lexer": "ipython3",
   "version": "3.7.6"
  }
 },
 "nbformat": 4,
 "nbformat_minor": 4
}
