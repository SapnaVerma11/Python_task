{
 "cells": [
  {
   "cell_type": "markdown",
   "metadata": {},
   "source": [
    "Task"
   ]
  },
  {
   "cell_type": "markdown",
   "metadata": {},
   "source": [
    "Write a function which takes a list as input and returns list in a reverse order.\n",
    "Ex:[1,3,4,5,6] the output should be [6,5,4,3,1]"
   ]
  },
  {
   "cell_type": "code",
   "execution_count": 1,
   "metadata": {},
   "outputs": [
    {
     "name": "stdout",
     "output_type": "stream",
     "text": [
      "enter numbers: 4\n",
      "enter numbers: 8\n",
      "enter numbers: 32\n",
      "enter numbers: 89\n",
      "enter numbers: 23\n",
      "actual list is  [4, 8, 32, 89, 23]\n",
      "reversed list is [23, 89, 32, 8, 4]\n"
     ]
    }
   ],
   "source": [
    "list1 = []\n",
    "for i in range(5):\n",
    "    data = int(input(\"enter numbers: \"))\n",
    "    list1.append(data)\n",
    "print(\"actual list is \",list1)\n",
    "list1.reverse()\n",
    "print(\"reversed list is\",list1)\n",
    "\n",
    "# another method\n",
    "# res = list1[::-1]\n",
    "# res"
   ]
  },
  {
   "cell_type": "code",
   "execution_count": null,
   "metadata": {},
   "outputs": [],
   "source": []
  }
 ],
 "metadata": {
  "kernelspec": {
   "display_name": "Python 3",
   "language": "python",
   "name": "python3"
  },
  "language_info": {
   "codemirror_mode": {
    "name": "ipython",
    "version": 3
   },
   "file_extension": ".py",
   "mimetype": "text/x-python",
   "name": "python",
   "nbconvert_exporter": "python",
   "pygments_lexer": "ipython3",
   "version": "3.7.6"
  }
 },
 "nbformat": 4,
 "nbformat_minor": 4
}
