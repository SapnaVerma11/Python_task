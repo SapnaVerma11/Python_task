{
 "cells": [
  {
   "cell_type": "markdown",
   "metadata": {},
   "source": [
    "# Task_11"
   ]
  },
  {
   "cell_type": "code",
   "execution_count": 1,
   "metadata": {},
   "outputs": [],
   "source": [
    "# Ask 2 numbers from users and store it in num1 and num2\n",
    "# Ask user to press 1 for addition,2 for subtraction,3 for multiplication and 4 for division\n",
    "# create 4 seperate functions for each operation (i.e. addition,subtraction,multiplication and division)\n",
    "# based on number given by user,call that perticular function and print the output\n",
    "\n"
   ]
  },
  {
   "cell_type": "code",
   "execution_count": 2,
   "metadata": {},
   "outputs": [
    {
     "name": "stdout",
     "output_type": "stream",
     "text": [
      "Enter a number: 76\n",
      "Enter a second number: 87\n",
      "press 1 for addition,2 for subtraction,3 for multiplication and 4 for division: 3\n",
      "6612\n"
     ]
    }
   ],
   "source": [
    "num1 = int(input(\"Enter a number: \"))\n",
    "num2 = int(input(\"Enter a second number: \"))\n",
    "res = int(input(\"press 1 for addition,2 for subtraction,3 for multiplication and 4 for division: \"))\n",
    "def add():\n",
    "    if (res == 1):\n",
    "        print(num1 + num2)\n",
    "add()\n",
    "def sub():\n",
    "    if (res == 2):\n",
    "        print(num1 - num2)\n",
    "sub()        \n",
    "def mul():\n",
    "    if (res == 3):\n",
    "        print(num1 * num2)\n",
    "mul()\n",
    "def div():\n",
    "    if (res == 4):\n",
    "        print(num1 / num2)\n",
    "div()        "
   ]
  },
  {
   "cell_type": "code",
   "execution_count": null,
   "metadata": {},
   "outputs": [],
   "source": []
  }
 ],
 "metadata": {
  "kernelspec": {
   "display_name": "Python 3",
   "language": "python",
   "name": "python3"
  },
  "language_info": {
   "codemirror_mode": {
    "name": "ipython",
    "version": 3
   },
   "file_extension": ".py",
   "mimetype": "text/x-python",
   "name": "python",
   "nbconvert_exporter": "python",
   "pygments_lexer": "ipython3",
   "version": "3.7.6"
  }
 },
 "nbformat": 4,
 "nbformat_minor": 4
}
