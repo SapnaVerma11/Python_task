{
 "cells": [
  {
   "cell_type": "markdown",
   "metadata": {},
   "source": [
    "# Task_9"
   ]
  },
  {
   "cell_type": "code",
   "execution_count": 1,
   "metadata": {},
   "outputs": [],
   "source": [
    "\n",
    "# Ask 2 numbers from users and store it in num1 and num2\n",
    "# Ask user to press 1 for addition,2 for subtraction,3 for multiplication and 4 for division\n",
    "# based on number given by user do the math operation\n"
   ]
  },
  {
   "cell_type": "code",
   "execution_count": 2,
   "metadata": {},
   "outputs": [
    {
     "name": "stdout",
     "output_type": "stream",
     "text": [
      "Enter first number : 43\n",
      "Enter second number : 54\n",
      "press 1 for their sum, 2 for subtraction,3 for multiplication,4 for division: 2\n",
      "-11\n"
     ]
    }
   ],
   "source": [
    "num1 = int(input(\"Enter first number : \"))\n",
    "num2 = int(input(\"Enter second number : \"))\n",
    "res = int(input(\"press 1 for their sum, 2 for subtraction,3 for multiplication,4 for division: \"))\n",
    "if (res == 1):\n",
    "    print(num1 + num2)\n",
    "elif(res == 2):\n",
    "    print(num1 - num2)\n",
    "elif(res == 3):\n",
    "    print(num1 * num2)\n",
    "elif(res == 4):\n",
    "    print(num1 // num2)\n",
    "else:\n",
    "    print(\"program ended\")"
   ]
  },
  {
   "cell_type": "code",
   "execution_count": null,
   "metadata": {},
   "outputs": [],
   "source": []
  }
 ],
 "metadata": {
  "kernelspec": {
   "display_name": "Python 3",
   "language": "python",
   "name": "python3"
  },
  "language_info": {
   "codemirror_mode": {
    "name": "ipython",
    "version": 3
   },
   "file_extension": ".py",
   "mimetype": "text/x-python",
   "name": "python",
   "nbconvert_exporter": "python",
   "pygments_lexer": "ipython3",
   "version": "3.7.6"
  }
 },
 "nbformat": 4,
 "nbformat_minor": 4
}
