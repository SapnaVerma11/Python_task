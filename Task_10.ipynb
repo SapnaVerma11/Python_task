{
 "cells": [
  {
   "cell_type": "markdown",
   "metadata": {},
   "source": [
    "# Task_10\n",
    "    "
   ]
  },
  {
   "cell_type": "markdown",
   "metadata": {},
   "source": [
    "1) Using while loop print numbers from 10 to 1\n"
   ]
  },
  {
   "cell_type": "code",
   "execution_count": 1,
   "metadata": {},
   "outputs": [
    {
     "name": "stdout",
     "output_type": "stream",
     "text": [
      "10\n",
      "9\n",
      "8\n",
      "7\n",
      "6\n",
      "5\n",
      "4\n",
      "3\n",
      "2\n",
      "1\n"
     ]
    }
   ],
   "source": [
    "count = 10\n",
    "while(count>0):\n",
    "    print(count)\n",
    "    count = count - 1"
   ]
  },
  {
   "cell_type": "markdown",
   "metadata": {},
   "source": [
    "2) Try using for loop to loop over tuples,sets and dictionaries"
   ]
  },
  {
   "cell_type": "markdown",
   "metadata": {},
   "source": [
    "Program to iterate over a tuple using for loop"
   ]
  },
  {
   "cell_type": "code",
   "execution_count": 2,
   "metadata": {},
   "outputs": [
    {
     "name": "stdout",
     "output_type": "stream",
     "text": [
      "hello\n",
      "34\n",
      "I am learning Python\n",
      "34.6\n",
      "False\n",
      "Data Science\n"
     ]
    }
   ],
   "source": [
    "tup1 = (\"hello\",34,\"I am learning Python\",34.6,False,\"Data Science\")\n",
    "n = len(tup1)\n",
    "for  item in range(n):\n",
    "    print(tup1[item])"
   ]
  },
  {
   "cell_type": "markdown",
   "metadata": {},
   "source": [
    "Program to iterate over a set using for loop"
   ]
  },
  {
   "cell_type": "code",
   "execution_count": 3,
   "metadata": {},
   "outputs": [
    {
     "name": "stdout",
     "output_type": "stream",
     "text": [
      "kiwi\n",
      "mangoes\n",
      "apple\n",
      "grapes\n",
      "oranges\n"
     ]
    }
   ],
   "source": [
    "set1 = set([\"apple\",\"kiwi\",\"grapes\",\"oranges\",\"mangoes\"])\n",
    "\n",
    "for fruits in set1:\n",
    "    print(fruits)"
   ]
  },
  {
   "cell_type": "markdown",
   "metadata": {},
   "source": [
    "Program to iterate over a dict using for loop"
   ]
  },
  {
   "cell_type": "code",
   "execution_count": 4,
   "metadata": {},
   "outputs": [
    {
     "name": "stdout",
     "output_type": "stream",
     "text": [
      "Name\n",
      "Hobby\n",
      "Pet\n",
      "Disha\n",
      "Dancing\n",
      "Dog\n"
     ]
    }
   ],
   "source": [
    "dict1 = {\"Name\":\"Disha\",\"Hobby\":\"Dancing\",\"Pet\":\"Dog\"}\n",
    "\n",
    "for key in dict1.keys():\n",
    "    print(key)\n",
    "    \n",
    "for value in dict1.values():\n",
    "    print(value)"
   ]
  },
  {
   "cell_type": "code",
   "execution_count": null,
   "metadata": {},
   "outputs": [],
   "source": []
  }
 ],
 "metadata": {
  "kernelspec": {
   "display_name": "Python 3",
   "language": "python",
   "name": "python3"
  },
  "language_info": {
   "codemirror_mode": {
    "name": "ipython",
    "version": 3
   },
   "file_extension": ".py",
   "mimetype": "text/x-python",
   "name": "python",
   "nbconvert_exporter": "python",
   "pygments_lexer": "ipython3",
   "version": "3.7.6"
  }
 },
 "nbformat": 4,
 "nbformat_minor": 4
}
