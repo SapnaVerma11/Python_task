{
 "cells": [
  {
   "cell_type": "markdown",
   "metadata": {},
   "source": [
    "# Task_4"
   ]
  },
  {
   "cell_type": "markdown",
   "metadata": {},
   "source": [
    "Go through other inbuilt methods like remove(),count(),clear(),sort(),reverse()"
   ]
  },
  {
   "cell_type": "code",
   "execution_count": 8,
   "metadata": {},
   "outputs": [
    {
     "name": "stdout",
     "output_type": "stream",
     "text": [
      "[1, 2, 50.3, 'Data_Science', 'Python', 45]\n",
      "[1, 2, 50.3, 'Data_Science', 45]\n"
     ]
    }
   ],
   "source": [
    "# remove method is used to remove particular value from list\n",
    "list1 = [1,2,50.3,\"Data_Science\",\"Python\",45]\n",
    "print(list1)\n",
    "list1.remove(\"Python\")\n",
    "print(list1)\n",
    "\n",
    "# raise value error if value is not present in list\n",
    "#list1.remove(876)\n",
    "#print(list1)"
   ]
  },
  {
   "cell_type": "code",
   "execution_count": 2,
   "metadata": {},
   "outputs": [
    {
     "name": "stdout",
     "output_type": "stream",
     "text": [
      "4\n"
     ]
    }
   ],
   "source": [
    "#count :- Returns the number of elements with the specified value\n",
    "\n",
    "str = \"Hi all, I am completing task 3 and 4.\"\n",
    "print(str.count(\"a\"))\n"
   ]
  },
  {
   "cell_type": "code",
   "execution_count": 3,
   "metadata": {},
   "outputs": [
    {
     "name": "stdout",
     "output_type": "stream",
     "text": [
      "[97, 6567, 45, 3]\n"
     ]
    }
   ],
   "source": [
    "#reverse method used to reverse the whole list\n",
    "list2 = [3,45,6567,97]\n",
    "list2.reverse()\n",
    "print(list2)"
   ]
  },
  {
   "cell_type": "code",
   "execution_count": 4,
   "metadata": {},
   "outputs": [
    {
     "name": "stdout",
     "output_type": "stream",
     "text": [
      "[]\n"
     ]
    }
   ],
   "source": [
    "# clear method removes all parameter from list\n",
    "list3 = [\"Python\",\"Machine learning\",\"Deep learning\",\"Tableau\"]\n",
    "list3.clear()\n",
    "print(list3)"
   ]
  },
  {
   "cell_type": "code",
   "execution_count": 6,
   "metadata": {},
   "outputs": [
    {
     "name": "stdout",
     "output_type": "stream",
     "text": [
      "[1, 2, 3, 5, 8, 9, 11, 12, 20]\n",
      "['z', 'r', 'p', 'o', 'l', 'k', 'd', 'c', 'a']\n",
      "['c', 'c++', 'html', 'java', 'php', 'python']\n"
     ]
    }
   ],
   "source": [
    "# sort :- it is used to get list in sorted manner.also takes a parameter called reverse\n",
    "list4 = [1,5,3,8,2,11,9,20,12] # get sorted in ascending order\n",
    "list4.sort()\n",
    "print(list4)\n",
    "\n",
    "list5 = [\"a\",\"k\",\"d\",\"l\",\"c\",\"o\",\"z\",\"p\",\"r\"] # get sorted in alphabetical order in reverse manner\n",
    "list5.sort(reverse = True)\n",
    "print(list5)\n",
    "\n",
    "list6 = [\"python\",\"c\",\"c++\",\"java\",\"html\",\"php\"] # get sorted in alphabetical order\n",
    "list6.sort()\n",
    "print(list6)"
   ]
  },
  {
   "cell_type": "markdown",
   "metadata": {},
   "source": [
    "# Task_5"
   ]
  },
  {
   "cell_type": "markdown",
   "metadata": {},
   "source": [
    "1."
   ]
  },
  {
   "cell_type": "code",
   "execution_count": 64,
   "metadata": {},
   "outputs": [],
   "source": [
    "#Add item 70 after 60 in the following Python List\n",
    "#input\n",
    "#l1 = [10, 20, [30, 40, [50, 60], 80], 90, 100]\n",
    "#output\n",
    "#[10, 20, [30, 40, [50, 60, 70], 80], 90, 100]"
   ]
  },
  {
   "cell_type": "code",
   "execution_count": 47,
   "metadata": {},
   "outputs": [
    {
     "name": "stdout",
     "output_type": "stream",
     "text": [
      "[10, 20, [30, 40, [50, 60, 70], 80], 90, 100]\n"
     ]
    }
   ],
   "source": [
    "l1 = [10, 20, [30, 40, [50, 60], 80], 90, 100]\n",
    "l1[2][2].append(70)\n",
    "print(l1)"
   ]
  },
  {
   "cell_type": "markdown",
   "metadata": {},
   "source": [
    "2."
   ]
  },
  {
   "cell_type": "code",
   "execution_count": 65,
   "metadata": {},
   "outputs": [],
   "source": [
    "#add sublist [7,8]\n",
    "#input\n",
    "#l2 = [1,2,[3,4,5,6],9]\n",
    "#output\n",
    "#[1,2,[3,4,5,6,[7,8]],9]"
   ]
  },
  {
   "cell_type": "code",
   "execution_count": 62,
   "metadata": {},
   "outputs": [
    {
     "name": "stdout",
     "output_type": "stream",
     "text": [
      "[1, 2, [3, 4, 5, 6, [7, 8]], 9]\n"
     ]
    }
   ],
   "source": [
    "l2 = [1,2,[3,4,5,6],9]\n",
    "l2[2].extend([[7,8]])\n",
    "print(l2)"
   ]
  },
  {
   "cell_type": "code",
   "execution_count": null,
   "metadata": {},
   "outputs": [],
   "source": []
  }
 ],
 "metadata": {
  "kernelspec": {
   "display_name": "Python 3",
   "language": "python",
   "name": "python3"
  },
  "language_info": {
   "codemirror_mode": {
    "name": "ipython",
    "version": 3
   },
   "file_extension": ".py",
   "mimetype": "text/x-python",
   "name": "python",
   "nbconvert_exporter": "python",
   "pygments_lexer": "ipython3",
   "version": "3.7.6"
  }
 },
 "nbformat": 4,
 "nbformat_minor": 4
}
