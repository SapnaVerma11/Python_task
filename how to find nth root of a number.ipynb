{
 "cells": [
  {
   "cell_type": "markdown",
   "metadata": {},
   "source": [
    "### write a class and method under it to perform nth root of a number "
   ]
  },
  {
   "cell_type": "code",
   "execution_count": 2,
   "metadata": {},
   "outputs": [
    {
     "name": "stdout",
     "output_type": "stream",
     "text": [
      "enter a number: 8\n",
      "enter the root number: 3\n",
      "3.0 th root of 8.0 is : 2.0\n"
     ]
    }
   ],
   "source": [
    "class Root:\n",
    "    def __init__(self,a,b):\n",
    "        self.a = a\n",
    "        self.b = b\n",
    "    def nthroot(x):\n",
    "        root = x.a**(1/float(x.b))\n",
    "        print(x.b,\"th root of\",x.a,\"is :\",root)\n",
    "x = float(input(\"enter a number: \"))\n",
    "y = float(input(\"enter the root number: \"))\n",
    "obj1 = Root(x,y)\n",
    "obj1.nthroot()"
   ]
  },
  {
   "cell_type": "code",
   "execution_count": null,
   "metadata": {},
   "outputs": [],
   "source": []
  }
 ],
 "metadata": {
  "kernelspec": {
   "display_name": "Python 3",
   "language": "python",
   "name": "python3"
  },
  "language_info": {
   "codemirror_mode": {
    "name": "ipython",
    "version": 3
   },
   "file_extension": ".py",
   "mimetype": "text/x-python",
   "name": "python",
   "nbconvert_exporter": "python",
   "pygments_lexer": "ipython3",
   "version": "3.7.6"
  }
 },
 "nbformat": 4,
 "nbformat_minor": 4
}
