{
 "cells": [
  {
   "cell_type": "markdown",
   "metadata": {},
   "source": [
    "# Task 1"
   ]
  },
  {
   "cell_type": "markdown",
   "metadata": {},
   "source": [
    "Describe some of the inbuilt functions used in python"
   ]
  },
  {
   "cell_type": "code",
   "execution_count": 2,
   "metadata": {},
   "outputs": [
    {
     "name": "stdout",
     "output_type": "stream",
     "text": [
      "hI ALL, i AM LEARNING 'pYTHON'.\n"
     ]
    }
   ],
   "source": [
    "# swapcase :- this function converts lower case letters to upper case letters and vice versa.\n",
    "\n",
    "str1 = \"Hi all, I am learning 'Python'.\"\n",
    "print(str1.swapcase())"
   ]
  },
  {
   "cell_type": "code",
   "execution_count": 3,
   "metadata": {},
   "outputs": [
    {
     "name": "stdout",
     "output_type": "stream",
     "text": [
      "Python Is Fun.\n"
     ]
    }
   ],
   "source": [
    "# title :- this function changes the first character of each word in a sentence to uppercase.\n",
    "\n",
    "str2 = \"Python is fun.\"\n",
    "print(str2.title())"
   ]
  },
  {
   "cell_type": "code",
   "execution_count": 8,
   "metadata": {},
   "outputs": [
    {
     "name": "stdout",
     "output_type": "stream",
     "text": [
      "False\n",
      "True\n",
      "False\n"
     ]
    }
   ],
   "source": [
    "# isalpha:- this function returns true if all letters are aplhabets only else returns false.\n",
    "\n",
    "str3 = \"Data Science is future\"  #space is not alphabet.\n",
    "print(str3.isalpha())\n",
    "\n",
    "str4 = \"MahinSir\"\n",
    "print(str4.isalpha())\n",
    "\n",
    "str5 = \"I-am-gonna-do-it\" #hyphen is not alphabet.\n",
    "print(str5.isalpha())"
   ]
  },
  {
   "cell_type": "code",
   "execution_count": 12,
   "metadata": {},
   "outputs": [
    {
     "name": "stdout",
     "output_type": "stream",
     "text": [
      "False\n",
      "True\n"
     ]
    }
   ],
   "source": [
    "# isdigit :- returns true if all characters are digit only.\n",
    "str6 = \"343sfs\"  # include characters thats why output is false\n",
    "print(str6.isdigit())\n",
    "\n",
    "str7 = \"45456\"\n",
    "print(str7.isdigit())"
   ]
  },
  {
   "cell_type": "code",
   "execution_count": 17,
   "metadata": {},
   "outputs": [
    {
     "name": "stdout",
     "output_type": "stream",
     "text": [
      "00000000000000Netzwerk academy consists good faculties.\n"
     ]
    }
   ],
   "source": [
    "# zfill :- fills the missing character at leading place for given length with zero.\n",
    "str8 = \"Netzwerk academy consists good faculties.\"\n",
    "print(str8.zfill(55))"
   ]
  },
  {
   "cell_type": "code",
   "execution_count": 23,
   "metadata": {},
   "outputs": [
    {
     "name": "stdout",
     "output_type": "stream",
     "text": [
      "True\n",
      "False\n",
      "True\n"
     ]
    }
   ],
   "source": [
    "#isalnum :- returns true if string includes characters or digits only or includes both else returns false.\n",
    "\n",
    "str9 = \"sdsd4546\"\n",
    "print(str9.isalnum())\n",
    "\n",
    "str10 = \"fdgg@sr\" # special character not allowed only digits and aplhabets\n",
    "print(str10.isalnum())\n",
    "\n",
    "str11 = \"57657\"\n",
    "print(str11.isalnum())\n"
   ]
  },
  {
   "cell_type": "code",
   "execution_count": 26,
   "metadata": {},
   "outputs": [
    {
     "name": "stdout",
     "output_type": "stream",
     "text": [
      "5\n",
      "8\n"
     ]
    }
   ],
   "source": [
    "#count :- count how many times a given letter or word present.\n",
    "str12 = \"I am from Haryana(Sonipat).\"\n",
    "print(str12.count(\"a\"))\n",
    "\n",
    "str13 = \"hello hello hello hello\"\n",
    "print(str13.count(\"l\"))\n",
    "    "
   ]
  },
  {
   "cell_type": "markdown",
   "metadata": {},
   "source": [
    "# Task 2"
   ]
  },
  {
   "cell_type": "markdown",
   "metadata": {},
   "source": [
    "check if \"to\" is present in \"welcome to python\"\n"
   ]
  },
  {
   "cell_type": "code",
   "execution_count": 31,
   "metadata": {},
   "outputs": [
    {
     "name": "stdout",
     "output_type": "stream",
     "text": [
      "True\n",
      "False\n"
     ]
    }
   ],
   "source": [
    "3# in keyword is used to determine whether particular word or letter is present in given sentence.\n",
    "\n",
    "str1 = \"welcome to python\"\n",
    "print(\"to\" in str1)\n",
    "\n",
    "str2 = \"welcome to python\"\n",
    "print(\"Hi\" in str1)"
   ]
  },
  {
   "cell_type": "code",
   "execution_count": null,
   "metadata": {},
   "outputs": [],
   "source": []
  }
 ],
 "metadata": {
  "kernelspec": {
   "display_name": "Python 3",
   "language": "python",
   "name": "python3"
  },
  "language_info": {
   "codemirror_mode": {
    "name": "ipython",
    "version": 3
   },
   "file_extension": ".py",
   "mimetype": "text/x-python",
   "name": "python",
   "nbconvert_exporter": "python",
   "pygments_lexer": "ipython3",
   "version": "3.7.6"
  }
 },
 "nbformat": 4,
 "nbformat_minor": 4
}
# Task 3

dict1 = { 
   "april_batch":{ 
      "student":{"name":"Mike", "marks":{"python":80, "maths":70} }
   }
}

# From the above dictionary, do the following tasks

# 1) access "Mike"
# 2) access 80
# 3) change "Mike" to "Your name"
# 4) add ML = 80 and DL = 80 inside marks

# 1) access "Mike"

dict1["april_batch"]["student"]["name"]


# 2) access 80
dict1["april_batch"]["student"]["marks"]["python"]

# 3) change "Mike" to "Your name"
s = dict1["april_batch"]["student"]["name"] = "Sapna"
print(s)

# 4) add ML = 80 and DL = 80 inside marks
dict1["april_batch"]["student"]["marks"]["ML"]= 80
dict1["april_batch"]["student"]["marks"]["DL"]= 80
print(dict1)

